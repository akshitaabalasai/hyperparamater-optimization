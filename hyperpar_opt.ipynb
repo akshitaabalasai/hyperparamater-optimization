{
 "cells": [
  {
   "cell_type": "code",
   "execution_count": 1,
   "id": "2430f29d-e594-45ba-b207-01e1cc5f2bf4",
   "metadata": {},
   "outputs": [],
   "source": [
    "import seaborn as sns"
   ]
  },
  {
   "cell_type": "code",
   "execution_count": 2,
   "id": "cc4344c0-f74a-452d-86dd-1b1d856f07fa",
   "metadata": {},
   "outputs": [],
   "source": [
    "import pandas as pd"
   ]
  },
  {
   "cell_type": "code",
   "execution_count": 27,
   "id": "c86f3487-7877-482d-ad42-9354744123dc",
   "metadata": {},
   "outputs": [],
   "source": [
    "import numpy as np"
   ]
  },
  {
   "cell_type": "code",
   "execution_count": 3,
   "id": "d82cf9cf-1af4-46c4-a678-ecaf9912aae5",
   "metadata": {},
   "outputs": [],
   "source": [
    "healthexp = sns.load_dataset('healthexp')"
   ]
  },
  {
   "cell_type": "code",
   "execution_count": 4,
   "id": "43665b06-7558-44ca-b7f8-6296552462fe",
   "metadata": {},
   "outputs": [
    {
     "data": {
      "text/html": [
       "<div>\n",
       "<style scoped>\n",
       "    .dataframe tbody tr th:only-of-type {\n",
       "        vertical-align: middle;\n",
       "    }\n",
       "\n",
       "    .dataframe tbody tr th {\n",
       "        vertical-align: top;\n",
       "    }\n",
       "\n",
       "    .dataframe thead th {\n",
       "        text-align: right;\n",
       "    }\n",
       "</style>\n",
       "<table border=\"1\" class=\"dataframe\">\n",
       "  <thead>\n",
       "    <tr style=\"text-align: right;\">\n",
       "      <th></th>\n",
       "      <th>Year</th>\n",
       "      <th>Country</th>\n",
       "      <th>Spending_USD</th>\n",
       "      <th>Life_Expectancy</th>\n",
       "    </tr>\n",
       "  </thead>\n",
       "  <tbody>\n",
       "    <tr>\n",
       "      <th>0</th>\n",
       "      <td>1970</td>\n",
       "      <td>Germany</td>\n",
       "      <td>252.311</td>\n",
       "      <td>70.6</td>\n",
       "    </tr>\n",
       "    <tr>\n",
       "      <th>1</th>\n",
       "      <td>1970</td>\n",
       "      <td>France</td>\n",
       "      <td>192.143</td>\n",
       "      <td>72.2</td>\n",
       "    </tr>\n",
       "    <tr>\n",
       "      <th>2</th>\n",
       "      <td>1970</td>\n",
       "      <td>Great Britain</td>\n",
       "      <td>123.993</td>\n",
       "      <td>71.9</td>\n",
       "    </tr>\n",
       "    <tr>\n",
       "      <th>3</th>\n",
       "      <td>1970</td>\n",
       "      <td>Japan</td>\n",
       "      <td>150.437</td>\n",
       "      <td>72.0</td>\n",
       "    </tr>\n",
       "    <tr>\n",
       "      <th>4</th>\n",
       "      <td>1970</td>\n",
       "      <td>USA</td>\n",
       "      <td>326.961</td>\n",
       "      <td>70.9</td>\n",
       "    </tr>\n",
       "  </tbody>\n",
       "</table>\n",
       "</div>"
      ],
      "text/plain": [
       "   Year        Country  Spending_USD  Life_Expectancy\n",
       "0  1970        Germany       252.311             70.6\n",
       "1  1970         France       192.143             72.2\n",
       "2  1970  Great Britain       123.993             71.9\n",
       "3  1970          Japan       150.437             72.0\n",
       "4  1970            USA       326.961             70.9"
      ]
     },
     "execution_count": 4,
     "metadata": {},
     "output_type": "execute_result"
    }
   ],
   "source": [
    "healthexp.head()"
   ]
  },
  {
   "cell_type": "code",
   "execution_count": 5,
   "id": "de2dd492-08e5-4335-927a-0a999fccb5bc",
   "metadata": {},
   "outputs": [],
   "source": [
    "healthexp = pd.get_dummies(healthexp) #builds new column for each country"
   ]
  },
  {
   "cell_type": "code",
   "execution_count": 6,
   "id": "c0e4b9da-f73a-4457-bad1-230ab5912c1a",
   "metadata": {},
   "outputs": [
    {
     "data": {
      "text/html": [
       "<div>\n",
       "<style scoped>\n",
       "    .dataframe tbody tr th:only-of-type {\n",
       "        vertical-align: middle;\n",
       "    }\n",
       "\n",
       "    .dataframe tbody tr th {\n",
       "        vertical-align: top;\n",
       "    }\n",
       "\n",
       "    .dataframe thead th {\n",
       "        text-align: right;\n",
       "    }\n",
       "</style>\n",
       "<table border=\"1\" class=\"dataframe\">\n",
       "  <thead>\n",
       "    <tr style=\"text-align: right;\">\n",
       "      <th></th>\n",
       "      <th>Year</th>\n",
       "      <th>Spending_USD</th>\n",
       "      <th>Life_Expectancy</th>\n",
       "      <th>Country_Canada</th>\n",
       "      <th>Country_France</th>\n",
       "      <th>Country_Germany</th>\n",
       "      <th>Country_Great Britain</th>\n",
       "      <th>Country_Japan</th>\n",
       "      <th>Country_USA</th>\n",
       "    </tr>\n",
       "  </thead>\n",
       "  <tbody>\n",
       "    <tr>\n",
       "      <th>0</th>\n",
       "      <td>1970</td>\n",
       "      <td>252.311</td>\n",
       "      <td>70.6</td>\n",
       "      <td>False</td>\n",
       "      <td>False</td>\n",
       "      <td>True</td>\n",
       "      <td>False</td>\n",
       "      <td>False</td>\n",
       "      <td>False</td>\n",
       "    </tr>\n",
       "    <tr>\n",
       "      <th>1</th>\n",
       "      <td>1970</td>\n",
       "      <td>192.143</td>\n",
       "      <td>72.2</td>\n",
       "      <td>False</td>\n",
       "      <td>True</td>\n",
       "      <td>False</td>\n",
       "      <td>False</td>\n",
       "      <td>False</td>\n",
       "      <td>False</td>\n",
       "    </tr>\n",
       "    <tr>\n",
       "      <th>2</th>\n",
       "      <td>1970</td>\n",
       "      <td>123.993</td>\n",
       "      <td>71.9</td>\n",
       "      <td>False</td>\n",
       "      <td>False</td>\n",
       "      <td>False</td>\n",
       "      <td>True</td>\n",
       "      <td>False</td>\n",
       "      <td>False</td>\n",
       "    </tr>\n",
       "    <tr>\n",
       "      <th>3</th>\n",
       "      <td>1970</td>\n",
       "      <td>150.437</td>\n",
       "      <td>72.0</td>\n",
       "      <td>False</td>\n",
       "      <td>False</td>\n",
       "      <td>False</td>\n",
       "      <td>False</td>\n",
       "      <td>True</td>\n",
       "      <td>False</td>\n",
       "    </tr>\n",
       "    <tr>\n",
       "      <th>4</th>\n",
       "      <td>1970</td>\n",
       "      <td>326.961</td>\n",
       "      <td>70.9</td>\n",
       "      <td>False</td>\n",
       "      <td>False</td>\n",
       "      <td>False</td>\n",
       "      <td>False</td>\n",
       "      <td>False</td>\n",
       "      <td>True</td>\n",
       "    </tr>\n",
       "  </tbody>\n",
       "</table>\n",
       "</div>"
      ],
      "text/plain": [
       "   Year  Spending_USD  Life_Expectancy  Country_Canada  Country_France  \\\n",
       "0  1970       252.311             70.6           False           False   \n",
       "1  1970       192.143             72.2           False            True   \n",
       "2  1970       123.993             71.9           False           False   \n",
       "3  1970       150.437             72.0           False           False   \n",
       "4  1970       326.961             70.9           False           False   \n",
       "\n",
       "   Country_Germany  Country_Great Britain  Country_Japan  Country_USA  \n",
       "0             True                  False          False        False  \n",
       "1            False                  False          False        False  \n",
       "2            False                   True          False        False  \n",
       "3            False                  False           True        False  \n",
       "4            False                  False          False         True  "
      ]
     },
     "execution_count": 6,
     "metadata": {},
     "output_type": "execute_result"
    }
   ],
   "source": [
    "healthexp.head()"
   ]
  },
  {
   "cell_type": "code",
   "execution_count": 7,
   "id": "204889cc-42cd-4b48-9cb8-be414d62dcf8",
   "metadata": {},
   "outputs": [],
   "source": [
    "X = healthexp.drop(['Life_Expectancy'], axis = 1)"
   ]
  },
  {
   "cell_type": "code",
   "execution_count": 8,
   "id": "631b6fbe-b4ac-46b7-9377-6af0c1652d0c",
   "metadata": {},
   "outputs": [],
   "source": [
    "y = healthexp['Life_Expectancy']"
   ]
  },
  {
   "cell_type": "code",
   "execution_count": 9,
   "id": "914535ff-a0b0-4765-8fe8-63c22f934e2c",
   "metadata": {},
   "outputs": [],
   "source": [
    "from sklearn.model_selection import train_test_split"
   ]
  },
  {
   "cell_type": "code",
   "execution_count": 10,
   "id": "3849b28b-aa8a-4fde-8971-1538d5a1a57d",
   "metadata": {},
   "outputs": [],
   "source": [
    "X_train, X_test, y_train, y_test = train_test_split(X, y, test_size = 0.2, random_state = 54)"
   ]
  },
  {
   "cell_type": "code",
   "execution_count": 11,
   "id": "874289b4-9c24-47ae-a329-33ee306c7f58",
   "metadata": {},
   "outputs": [],
   "source": [
    "from sklearn.ensemble import RandomForestRegressor"
   ]
  },
  {
   "cell_type": "code",
   "execution_count": 12,
   "id": "58a7be35-ac01-4800-8c79-0c2e26d102aa",
   "metadata": {},
   "outputs": [],
   "source": [
    "rfr = RandomForestRegressor(random_state = 34)"
   ]
  },
  {
   "cell_type": "code",
   "execution_count": 13,
   "id": "e208432f-a430-4519-aa56-b13dc7f6b9bd",
   "metadata": {},
   "outputs": [
    {
     "data": {
      "text/html": [
       "<style>#sk-container-id-1 {color: black;background-color: white;}#sk-container-id-1 pre{padding: 0;}#sk-container-id-1 div.sk-toggleable {background-color: white;}#sk-container-id-1 label.sk-toggleable__label {cursor: pointer;display: block;width: 100%;margin-bottom: 0;padding: 0.3em;box-sizing: border-box;text-align: center;}#sk-container-id-1 label.sk-toggleable__label-arrow:before {content: \"▸\";float: left;margin-right: 0.25em;color: #696969;}#sk-container-id-1 label.sk-toggleable__label-arrow:hover:before {color: black;}#sk-container-id-1 div.sk-estimator:hover label.sk-toggleable__label-arrow:before {color: black;}#sk-container-id-1 div.sk-toggleable__content {max-height: 0;max-width: 0;overflow: hidden;text-align: left;background-color: #f0f8ff;}#sk-container-id-1 div.sk-toggleable__content pre {margin: 0.2em;color: black;border-radius: 0.25em;background-color: #f0f8ff;}#sk-container-id-1 input.sk-toggleable__control:checked~div.sk-toggleable__content {max-height: 200px;max-width: 100%;overflow: auto;}#sk-container-id-1 input.sk-toggleable__control:checked~label.sk-toggleable__label-arrow:before {content: \"▾\";}#sk-container-id-1 div.sk-estimator input.sk-toggleable__control:checked~label.sk-toggleable__label {background-color: #d4ebff;}#sk-container-id-1 div.sk-label input.sk-toggleable__control:checked~label.sk-toggleable__label {background-color: #d4ebff;}#sk-container-id-1 input.sk-hidden--visually {border: 0;clip: rect(1px 1px 1px 1px);clip: rect(1px, 1px, 1px, 1px);height: 1px;margin: -1px;overflow: hidden;padding: 0;position: absolute;width: 1px;}#sk-container-id-1 div.sk-estimator {font-family: monospace;background-color: #f0f8ff;border: 1px dotted black;border-radius: 0.25em;box-sizing: border-box;margin-bottom: 0.5em;}#sk-container-id-1 div.sk-estimator:hover {background-color: #d4ebff;}#sk-container-id-1 div.sk-parallel-item::after {content: \"\";width: 100%;border-bottom: 1px solid gray;flex-grow: 1;}#sk-container-id-1 div.sk-label:hover label.sk-toggleable__label {background-color: #d4ebff;}#sk-container-id-1 div.sk-serial::before {content: \"\";position: absolute;border-left: 1px solid gray;box-sizing: border-box;top: 0;bottom: 0;left: 50%;z-index: 0;}#sk-container-id-1 div.sk-serial {display: flex;flex-direction: column;align-items: center;background-color: white;padding-right: 0.2em;padding-left: 0.2em;position: relative;}#sk-container-id-1 div.sk-item {position: relative;z-index: 1;}#sk-container-id-1 div.sk-parallel {display: flex;align-items: stretch;justify-content: center;background-color: white;position: relative;}#sk-container-id-1 div.sk-item::before, #sk-container-id-1 div.sk-parallel-item::before {content: \"\";position: absolute;border-left: 1px solid gray;box-sizing: border-box;top: 0;bottom: 0;left: 50%;z-index: -1;}#sk-container-id-1 div.sk-parallel-item {display: flex;flex-direction: column;z-index: 1;position: relative;background-color: white;}#sk-container-id-1 div.sk-parallel-item:first-child::after {align-self: flex-end;width: 50%;}#sk-container-id-1 div.sk-parallel-item:last-child::after {align-self: flex-start;width: 50%;}#sk-container-id-1 div.sk-parallel-item:only-child::after {width: 0;}#sk-container-id-1 div.sk-dashed-wrapped {border: 1px dashed gray;margin: 0 0.4em 0.5em 0.4em;box-sizing: border-box;padding-bottom: 0.4em;background-color: white;}#sk-container-id-1 div.sk-label label {font-family: monospace;font-weight: bold;display: inline-block;line-height: 1.2em;}#sk-container-id-1 div.sk-label-container {text-align: center;}#sk-container-id-1 div.sk-container {/* jupyter's `normalize.less` sets `[hidden] { display: none; }` but bootstrap.min.css set `[hidden] { display: none !important; }` so we also need the `!important` here to be able to override the default hidden behavior on the sphinx rendered scikit-learn.org. See: https://github.com/scikit-learn/scikit-learn/issues/21755 */display: inline-block !important;position: relative;}#sk-container-id-1 div.sk-text-repr-fallback {display: none;}</style><div id=\"sk-container-id-1\" class=\"sk-top-container\"><div class=\"sk-text-repr-fallback\"><pre>RandomForestRegressor(random_state=34)</pre><b>In a Jupyter environment, please rerun this cell to show the HTML representation or trust the notebook. <br />On GitHub, the HTML representation is unable to render, please try loading this page with nbviewer.org.</b></div><div class=\"sk-container\" hidden><div class=\"sk-item\"><div class=\"sk-estimator sk-toggleable\"><input class=\"sk-toggleable__control sk-hidden--visually\" id=\"sk-estimator-id-1\" type=\"checkbox\" checked><label for=\"sk-estimator-id-1\" class=\"sk-toggleable__label sk-toggleable__label-arrow\">RandomForestRegressor</label><div class=\"sk-toggleable__content\"><pre>RandomForestRegressor(random_state=34)</pre></div></div></div></div></div>"
      ],
      "text/plain": [
       "RandomForestRegressor(random_state=34)"
      ]
     },
     "execution_count": 13,
     "metadata": {},
     "output_type": "execute_result"
    }
   ],
   "source": [
    "rfr.fit(X_train, y_train)"
   ]
  },
  {
   "cell_type": "code",
   "execution_count": 15,
   "id": "51f5e49f-b552-46dd-ab5e-d5cc2333571d",
   "metadata": {},
   "outputs": [],
   "source": [
    "y_pred = rfr.predict(X_test)"
   ]
  },
  {
   "cell_type": "code",
   "execution_count": 16,
   "id": "90fdda6a-00f2-40c0-9482-b11a4a9b0baf",
   "metadata": {},
   "outputs": [],
   "source": [
    "from sklearn.metrics import mean_absolute_error, mean_squared_error, r2_score #r2 score - how well model fits data"
   ]
  },
  {
   "cell_type": "code",
   "execution_count": 17,
   "id": "2ed4e6a2-fd96-46d0-a5a9-34aa67cba8fa",
   "metadata": {},
   "outputs": [
    {
     "data": {
      "text/plain": [
       "0.31138181818180044"
      ]
     },
     "execution_count": 17,
     "metadata": {},
     "output_type": "execute_result"
    }
   ],
   "source": [
    "mean_absolute_error(y_test, y_pred)"
   ]
  },
  {
   "cell_type": "code",
   "execution_count": null,
   "id": "88b88dc5-f594-44ba-bee8-10e4987940cd",
   "metadata": {},
   "outputs": [],
   "source": []
  },
  {
   "cell_type": "code",
   "execution_count": 18,
   "id": "e2893d03-47fc-4b28-a982-fbc7a8f9cdb1",
   "metadata": {},
   "outputs": [
    {
     "data": {
      "text/plain": [
       "0.9836234548107303"
      ]
     },
     "execution_count": 18,
     "metadata": {},
     "output_type": "execute_result"
    }
   ],
   "source": [
    "r2_score(y_test, y_pred)"
   ]
  },
  {
   "cell_type": "code",
   "execution_count": 19,
   "id": "6eabb7f5-b428-4129-a3f6-1f5fa57da17a",
   "metadata": {},
   "outputs": [
    {
     "name": "stdout",
     "output_type": "stream",
     "text": [
      "Requirement already satisfied: optuna in /opt/anaconda3/lib/python3.11/site-packages (3.6.1)\n",
      "Requirement already satisfied: alembic>=1.5.0 in /opt/anaconda3/lib/python3.11/site-packages (from optuna) (1.13.1)\n",
      "Requirement already satisfied: colorlog in /opt/anaconda3/lib/python3.11/site-packages (from optuna) (6.8.2)\n",
      "Requirement already satisfied: numpy in /opt/anaconda3/lib/python3.11/site-packages (from optuna) (1.26.4)\n",
      "Requirement already satisfied: packaging>=20.0 in /opt/anaconda3/lib/python3.11/site-packages (from optuna) (23.1)\n",
      "Requirement already satisfied: sqlalchemy>=1.3.0 in /opt/anaconda3/lib/python3.11/site-packages (from optuna) (2.0.25)\n",
      "Requirement already satisfied: tqdm in /opt/anaconda3/lib/python3.11/site-packages (from optuna) (4.65.0)\n",
      "Requirement already satisfied: PyYAML in /opt/anaconda3/lib/python3.11/site-packages (from optuna) (6.0.1)\n",
      "Requirement already satisfied: Mako in /opt/anaconda3/lib/python3.11/site-packages (from alembic>=1.5.0->optuna) (1.3.3)\n",
      "Requirement already satisfied: typing-extensions>=4 in /opt/anaconda3/lib/python3.11/site-packages (from alembic>=1.5.0->optuna) (4.9.0)\n",
      "Requirement already satisfied: greenlet!=0.4.17 in /opt/anaconda3/lib/python3.11/site-packages (from sqlalchemy>=1.3.0->optuna) (3.0.1)\n",
      "Requirement already satisfied: MarkupSafe>=0.9.2 in /opt/anaconda3/lib/python3.11/site-packages (from Mako->alembic>=1.5.0->optuna) (2.1.3)\n",
      "Note: you may need to restart the kernel to use updated packages.\n"
     ]
    }
   ],
   "source": [
    "pip install optuna"
   ]
  },
  {
   "cell_type": "code",
   "execution_count": 20,
   "id": "c8203021-c95d-4496-8e96-79c7b2d53576",
   "metadata": {},
   "outputs": [],
   "source": [
    "import optuna"
   ]
  },
  {
   "cell_type": "code",
   "execution_count": 21,
   "id": "b633ebfd-3624-4097-bd30-123a25380ad5",
   "metadata": {},
   "outputs": [],
   "source": [
    "from sklearn.model_selection import cross_val_score"
   ]
  },
  {
   "cell_type": "code",
   "execution_count": 39,
   "id": "2e94ab3b-8a11-4cb1-9adb-ff8e79cf3e15",
   "metadata": {},
   "outputs": [],
   "source": [
    "\n",
    "def objective(trial):\n",
    "    # Define hyperparameters to optimize\n",
    "    n_estimators = trial.suggest_int('n_estimators', 100, 1000)\n",
    "    max_depth = trial.suggest_int('max_depth', 10, 50)\n",
    "    min_samples_split = trial.suggest_int('min_samples_split', 2, 20)\n",
    "    min_samples_leaf = trial.suggest_int('min_samples_leaf', 1, 10)\n",
    "    \n",
    "    # Instantiate the model with hyperparameters\n",
    "    model = RandomForestRegressor(n_estimators=n_estimators,\n",
    "                                   max_depth=max_depth,\n",
    "                                   min_samples_split=min_samples_split,\n",
    "                                   min_samples_leaf=min_samples_leaf,\n",
    "                                   random_state=42)\n",
    "    \n",
    "    # Perform cross-validation and calculate mean squared error\n",
    "    scores = cross_val_score(model, X_train, y_train, cv=5, scoring='neg_mean_squared_error', n_jobs=-1)\n",
    "    mean_mse = -np.mean(scores)\n",
    "    \n",
    "    return mean_mse\n",
    "\n",
    "    study = optuna.create_study(direction='minimize')  # Assuming you want to minimize mean squared error\n",
    "    study.optimize(objective, n_trials=200)\n"
   ]
  },
  {
   "cell_type": "code",
   "execution_count": 40,
   "id": "510b1c46-9092-459c-982c-c79dc0830a4c",
   "metadata": {},
   "outputs": [
    {
     "name": "stderr",
     "output_type": "stream",
     "text": [
      "[I 2024-04-14 16:57:45,449] A new study created in memory with name: no-name-ab201953-097b-4bc3-b0f7-fb2e091a8d04\n"
     ]
    }
   ],
   "source": [
    "# Set the seed value for reproducibility\n",
    "#seed_value = 42\n",
    "\n",
    "# Create a study with RandomSampler and specify the seed\n",
    "study = optuna.create_study(direction='maximize', sampler=optuna.samplers.RandomSampler(seed=42))\n"
   ]
  },
  {
   "cell_type": "code",
   "execution_count": null,
   "id": "358fda90-d338-41f2-ac8a-15a568b0814f",
   "metadata": {},
   "outputs": [
    {
     "name": "stderr",
     "output_type": "stream",
     "text": [
      "[I 2024-04-14 16:57:46,039] Trial 0 finished with value: 1.0509848478478494 and parameters: {'n_estimators': 437, 'max_depth': 48, 'min_samples_split': 15, 'min_samples_leaf': 6}. Best is trial 0 with value: 1.0509848478478494.\n",
      "[I 2024-04-14 16:57:46,301] Trial 1 finished with value: 1.4612112450134922 and parameters: {'n_estimators': 240, 'max_depth': 16, 'min_samples_split': 3, 'min_samples_leaf': 9}. Best is trial 1 with value: 1.4612112450134922.\n",
      "[I 2024-04-14 16:57:46,958] Trial 2 finished with value: 1.5646688178748172 and parameters: {'n_estimators': 641, 'max_depth': 39, 'min_samples_split': 2, 'min_samples_leaf': 10}. Best is trial 2 with value: 1.5646688178748172.\n",
      "[I 2024-04-14 16:57:47,890] Trial 3 finished with value: 0.2888075323961413 and parameters: {'n_estimators': 850, 'max_depth': 18, 'min_samples_split': 5, 'min_samples_leaf': 2}. Best is trial 2 with value: 1.5646688178748172.\n",
      "[I 2024-04-14 16:57:48,255] Trial 4 finished with value: 0.480712917145695 and parameters: {'n_estimators': 374, 'max_depth': 31, 'min_samples_split': 10, 'min_samples_leaf': 3}. Best is trial 2 with value: 1.5646688178748172.\n",
      "[I 2024-04-14 16:57:48,901] Trial 5 finished with value: 0.5738158580911651 and parameters: {'n_estimators': 651, 'max_depth': 15, 'min_samples_split': 7, 'min_samples_leaf': 4}. Best is trial 2 with value: 1.5646688178748172.\n",
      "[I 2024-04-14 16:57:49,436] Trial 6 finished with value: 1.016737082602115 and parameters: {'n_estimators': 510, 'max_depth': 42, 'min_samples_split': 5, 'min_samples_leaf': 6}. Best is trial 2 with value: 1.5646688178748172.\n",
      "[I 2024-04-14 16:57:50,031] Trial 7 finished with value: 0.5052228452008977 and parameters: {'n_estimators': 633, 'max_depth': 11, 'min_samples_split': 13, 'min_samples_leaf': 2}. Best is trial 2 with value: 1.5646688178748172.\n",
      "[I 2024-04-14 16:57:50,177] Trial 8 finished with value: 1.47215076101437 and parameters: {'n_estimators': 158, 'max_depth': 48, 'min_samples_split': 20, 'min_samples_leaf': 9}. Best is trial 2 with value: 1.5646688178748172.\n",
      "[I 2024-04-14 16:57:50,525] Trial 9 finished with value: 0.8720710105411804 and parameters: {'n_estimators': 374, 'max_depth': 14, 'min_samples_split': 15, 'min_samples_leaf': 5}. Best is trial 2 with value: 1.5646688178748172.\n",
      "[I 2024-04-14 16:57:50,726] Trial 10 finished with value: 1.5628805278007776 and parameters: {'n_estimators': 209, 'max_depth': 30, 'min_samples_split': 2, 'min_samples_leaf': 10}. Best is trial 2 with value: 1.5646688178748172.\n",
      "[I 2024-04-14 16:57:51,031] Trial 11 finished with value: 1.0213219872728083 and parameters: {'n_estimators': 333, 'max_depth': 37, 'min_samples_split': 7, 'min_samples_leaf': 6}. Best is trial 2 with value: 1.5646688178748172.\n",
      "[I 2024-04-14 16:57:51,820] Trial 12 finished with value: 1.393806432589971 and parameters: {'n_estimators': 592, 'max_depth': 17, 'min_samples_split': 20, 'min_samples_leaf': 8}. Best is trial 2 with value: 1.5646688178748172.\n",
      "[I 2024-04-14 16:57:52,957] Trial 13 finished with value: 1.5676557186019349 and parameters: {'n_estimators': 946, 'max_depth': 46, 'min_samples_split': 13, 'min_samples_leaf': 10}. Best is trial 13 with value: 1.5676557186019349.\n",
      "[I 2024-04-14 16:57:53,173] Trial 14 finished with value: 0.5691651307162292 and parameters: {'n_estimators': 179, 'max_depth': 18, 'min_samples_split': 2, 'min_samples_leaf': 4}. Best is trial 13 with value: 1.5676557186019349.\n",
      "[I 2024-04-14 16:57:53,722] Trial 15 finished with value: 0.7694446664244097 and parameters: {'n_estimators': 450, 'max_depth': 21, 'min_samples_split': 17, 'min_samples_leaf': 4}. Best is trial 13 with value: 1.5676557186019349.\n",
      "[I 2024-04-14 16:57:54,072] Trial 16 finished with value: 1.4588238737375956 and parameters: {'n_estimators': 353, 'max_depth': 32, 'min_samples_split': 4, 'min_samples_leaf': 9}. Best is trial 13 with value: 1.5676557186019349.\n",
      "[I 2024-04-14 16:57:54,267] Trial 17 finished with value: 0.6201374824158064 and parameters: {'n_estimators': 167, 'max_depth': 50, 'min_samples_split': 16, 'min_samples_leaf': 2}. Best is trial 13 with value: 1.5676557186019349.\n",
      "[I 2024-04-14 16:57:54,391] Trial 18 finished with value: 1.3309515969158607 and parameters: {'n_estimators': 104, 'max_depth': 43, 'min_samples_split': 15, 'min_samples_leaf': 8}. Best is trial 13 with value: 1.5676557186019349.\n",
      "[I 2024-04-14 16:57:55,554] Trial 19 finished with value: 0.3642656799659779 and parameters: {'n_estimators': 794, 'max_depth': 13, 'min_samples_split': 8, 'min_samples_leaf': 2}. Best is trial 13 with value: 1.5676557186019349.\n",
      "[I 2024-04-14 16:57:56,515] Trial 20 finished with value: 0.33627294466807184 and parameters: {'n_estimators': 877, 'max_depth': 35, 'min_samples_split': 8, 'min_samples_leaf': 1}. Best is trial 13 with value: 1.5676557186019349.\n",
      "[I 2024-04-14 16:57:56,879] Trial 21 finished with value: 1.2075499106157603 and parameters: {'n_estimators': 380, 'max_depth': 23, 'min_samples_split': 15, 'min_samples_leaf': 7}. Best is trial 13 with value: 1.5676557186019349.\n",
      "[I 2024-04-14 16:57:57,857] Trial 22 finished with value: 1.3466262370749504 and parameters: {'n_estimators': 899, 'max_depth': 29, 'min_samples_split': 4, 'min_samples_leaf': 8}. Best is trial 13 with value: 1.5676557186019349.\n",
      "[I 2024-04-14 16:57:58,613] Trial 23 finished with value: 0.8834817413846654 and parameters: {'n_estimators': 785, 'max_depth': 33, 'min_samples_split': 16, 'min_samples_leaf': 5}. Best is trial 13 with value: 1.5676557186019349.\n",
      "[I 2024-04-14 16:57:59,196] Trial 24 finished with value: 0.2682319874666397 and parameters: {'n_estimators': 570, 'max_depth': 27, 'min_samples_split': 2, 'min_samples_leaf': 2}. Best is trial 13 with value: 1.5676557186019349.\n",
      "[I 2024-04-14 16:57:59,325] Trial 25 finished with value: 1.0020485537290045 and parameters: {'n_estimators': 128, 'max_depth': 36, 'min_samples_split': 7, 'min_samples_leaf': 6}. Best is trial 13 with value: 1.5676557186019349.\n",
      "[I 2024-04-14 16:58:00,170] Trial 26 finished with value: 1.3457872367906147 and parameters: {'n_estimators': 917, 'max_depth': 20, 'min_samples_split': 9, 'min_samples_leaf': 8}. Best is trial 13 with value: 1.5676557186019349.\n",
      "[I 2024-04-14 16:58:00,471] Trial 27 finished with value: 0.3432965138348828 and parameters: {'n_estimators': 306, 'max_depth': 13, 'min_samples_split': 7, 'min_samples_leaf': 2}. Best is trial 13 with value: 1.5676557186019349.\n",
      "[I 2024-04-14 16:58:01,307] Trial 28 finished with value: 1.4593151382709333 and parameters: {'n_estimators': 937, 'max_depth': 43, 'min_samples_split': 14, 'min_samples_leaf': 9}. Best is trial 13 with value: 1.5676557186019349.\n",
      "[I 2024-04-14 16:58:02,074] Trial 29 finished with value: 1.0858446073315968 and parameters: {'n_estimators': 824, 'max_depth': 17, 'min_samples_split': 18, 'min_samples_leaf': 6}. Best is trial 13 with value: 1.5676557186019349.\n",
      "[I 2024-04-14 16:58:02,864] Trial 30 finished with value: 0.3632020153355151 and parameters: {'n_estimators': 827, 'max_depth': 46, 'min_samples_split': 8, 'min_samples_leaf': 2}. Best is trial 13 with value: 1.5676557186019349.\n",
      "[I 2024-04-14 16:58:03,141] Trial 31 finished with value: 1.4620789001241845 and parameters: {'n_estimators': 305, 'max_depth': 27, 'min_samples_split': 17, 'min_samples_leaf': 9}. Best is trial 13 with value: 1.5676557186019349.\n",
      "[I 2024-04-14 16:58:03,254] Trial 32 finished with value: 0.44823002923790983 and parameters: {'n_estimators': 106, 'max_depth': 30, 'min_samples_split': 9, 'min_samples_leaf': 3}. Best is trial 13 with value: 1.5676557186019349.\n",
      "[I 2024-04-14 16:58:03,448] Trial 33 finished with value: 0.8390992944527339 and parameters: {'n_estimators': 207, 'max_depth': 23, 'min_samples_split': 19, 'min_samples_leaf': 4}. Best is trial 13 with value: 1.5676557186019349.\n",
      "[I 2024-04-14 16:58:03,950] Trial 34 finished with value: 1.5624825568094303 and parameters: {'n_estimators': 567, 'max_depth': 38, 'min_samples_split': 8, 'min_samples_leaf': 10}. Best is trial 13 with value: 1.5676557186019349.\n",
      "[I 2024-04-14 16:58:04,915] Trial 35 finished with value: 0.615466358354577 and parameters: {'n_estimators': 967, 'max_depth': 20, 'min_samples_split': 11, 'min_samples_leaf': 4}. Best is trial 13 with value: 1.5676557186019349.\n",
      "[I 2024-04-14 16:58:05,285] Trial 36 finished with value: 1.027732893327482 and parameters: {'n_estimators': 356, 'max_depth': 11, 'min_samples_split': 13, 'min_samples_leaf': 6}. Best is trial 13 with value: 1.5676557186019349.\n",
      "[I 2024-04-14 16:58:05,454] Trial 37 finished with value: 0.7705758836989272 and parameters: {'n_estimators': 146, 'max_depth': 21, 'min_samples_split': 19, 'min_samples_leaf': 3}. Best is trial 13 with value: 1.5676557186019349.\n",
      "[I 2024-04-14 16:58:05,674] Trial 38 finished with value: 0.8242602963867689 and parameters: {'n_estimators': 230, 'max_depth': 30, 'min_samples_split': 20, 'min_samples_leaf': 3}. Best is trial 13 with value: 1.5676557186019349.\n",
      "[I 2024-04-14 16:58:06,603] Trial 39 finished with value: 1.347756362875359 and parameters: {'n_estimators': 705, 'max_depth': 41, 'min_samples_split': 6, 'min_samples_leaf': 8}. Best is trial 13 with value: 1.5676557186019349.\n",
      "[I 2024-04-14 16:58:07,139] Trial 40 finished with value: 1.0402723859513807 and parameters: {'n_estimators': 431, 'max_depth': 35, 'min_samples_split': 14, 'min_samples_leaf': 6}. Best is trial 13 with value: 1.5676557186019349.\n",
      "[I 2024-04-14 16:58:07,325] Trial 41 finished with value: 0.36998012728791463 and parameters: {'n_estimators': 181, 'max_depth': 44, 'min_samples_split': 8, 'min_samples_leaf': 2}. Best is trial 13 with value: 1.5676557186019349.\n",
      "[I 2024-04-14 16:58:07,465] Trial 42 finished with value: 0.5281894809386053 and parameters: {'n_estimators': 136, 'max_depth': 34, 'min_samples_split': 14, 'min_samples_leaf': 1}. Best is trial 13 with value: 1.5676557186019349.\n",
      "[I 2024-04-14 16:58:07,990] Trial 43 finished with value: 0.5406033874948805 and parameters: {'n_estimators': 561, 'max_depth': 19, 'min_samples_split': 14, 'min_samples_leaf': 2}. Best is trial 13 with value: 1.5676557186019349.\n",
      "[I 2024-04-14 16:58:08,706] Trial 44 finished with value: 0.7465323711973879 and parameters: {'n_estimators': 722, 'max_depth': 25, 'min_samples_split': 19, 'min_samples_leaf': 2}. Best is trial 13 with value: 1.5676557186019349.\n",
      "[I 2024-04-14 16:58:09,143] Trial 45 finished with value: 1.4696555664050195 and parameters: {'n_estimators': 407, 'max_depth': 14, 'min_samples_split': 19, 'min_samples_leaf': 9}. Best is trial 13 with value: 1.5676557186019349.\n",
      "[I 2024-04-14 16:58:09,882] Trial 46 finished with value: 1.0793401391167987 and parameters: {'n_estimators': 332, 'max_depth': 37, 'min_samples_split': 17, 'min_samples_leaf': 6}. Best is trial 13 with value: 1.5676557186019349.\n",
      "[I 2024-04-14 16:58:10,587] Trial 47 finished with value: 1.4592116807606585 and parameters: {'n_estimators': 577, 'max_depth': 19, 'min_samples_split': 3, 'min_samples_leaf': 9}. Best is trial 13 with value: 1.5676557186019349.\n",
      "[I 2024-04-14 16:58:11,540] Trial 48 finished with value: 0.5743114984330825 and parameters: {'n_estimators': 911, 'max_depth': 35, 'min_samples_split': 8, 'min_samples_leaf': 4}. Best is trial 13 with value: 1.5676557186019349.\n",
      "[I 2024-04-14 16:58:12,539] Trial 49 finished with value: 1.3657059799840323 and parameters: {'n_estimators': 754, 'max_depth': 46, 'min_samples_split': 18, 'min_samples_leaf': 8}. Best is trial 13 with value: 1.5676557186019349.\n",
      "[I 2024-04-14 16:58:13,322] Trial 50 finished with value: 1.4611360737236887 and parameters: {'n_estimators': 678, 'max_depth': 13, 'min_samples_split': 5, 'min_samples_leaf': 9}. Best is trial 13 with value: 1.5676557186019349.\n",
      "[I 2024-04-14 16:58:13,931] Trial 51 finished with value: 1.206103700857952 and parameters: {'n_estimators': 646, 'max_depth': 10, 'min_samples_split': 3, 'min_samples_leaf': 7}. Best is trial 13 with value: 1.5676557186019349.\n",
      "[I 2024-04-14 16:58:14,040] Trial 52 finished with value: 1.1872507194859505 and parameters: {'n_estimators': 104, 'max_depth': 16, 'min_samples_split': 12, 'min_samples_leaf': 7}. Best is trial 13 with value: 1.5676557186019349.\n",
      "[I 2024-04-14 16:58:14,749] Trial 53 finished with value: 0.6197059742265749 and parameters: {'n_estimators': 687, 'max_depth': 19, 'min_samples_split': 15, 'min_samples_leaf': 3}. Best is trial 13 with value: 1.5676557186019349.\n",
      "[I 2024-04-14 16:58:15,116] Trial 54 finished with value: 1.4594126063298627 and parameters: {'n_estimators': 393, 'max_depth': 40, 'min_samples_split': 14, 'min_samples_leaf': 9}. Best is trial 13 with value: 1.5676557186019349.\n",
      "[I 2024-04-14 16:58:15,752] Trial 55 finished with value: 0.5756125627158653 and parameters: {'n_estimators': 692, 'max_depth': 33, 'min_samples_split': 3, 'min_samples_leaf': 4}. Best is trial 13 with value: 1.5676557186019349.\n",
      "[I 2024-04-14 16:58:16,070] Trial 56 finished with value: 0.8838056918452972 and parameters: {'n_estimators': 338, 'max_depth': 20, 'min_samples_split': 20, 'min_samples_leaf': 4}. Best is trial 13 with value: 1.5676557186019349.\n",
      "[I 2024-04-14 16:58:16,927] Trial 57 finished with value: 1.0685024857951724 and parameters: {'n_estimators': 903, 'max_depth': 35, 'min_samples_split': 17, 'min_samples_leaf': 6}. Best is trial 13 with value: 1.5676557186019349.\n",
      "[I 2024-04-14 16:58:17,740] Trial 58 finished with value: 1.3457655938201765 and parameters: {'n_estimators': 619, 'max_depth': 30, 'min_samples_split': 5, 'min_samples_leaf': 8}. Best is trial 13 with value: 1.5676557186019349.\n",
      "[I 2024-04-14 16:58:18,558] Trial 59 finished with value: 0.5465473357561688 and parameters: {'n_estimators': 352, 'max_depth': 10, 'min_samples_split': 14, 'min_samples_leaf': 2}. Best is trial 13 with value: 1.5676557186019349.\n",
      "[I 2024-04-14 16:58:19,711] Trial 60 finished with value: 0.8280175186104461 and parameters: {'n_estimators': 947, 'max_depth': 49, 'min_samples_split': 19, 'min_samples_leaf': 4}. Best is trial 13 with value: 1.5676557186019349.\n",
      "[I 2024-04-14 16:58:19,865] Trial 61 finished with value: 1.554602803156913 and parameters: {'n_estimators': 113, 'max_depth': 48, 'min_samples_split': 10, 'min_samples_leaf': 10}. Best is trial 13 with value: 1.5676557186019349.\n",
      "[I 2024-04-14 16:58:20,930] Trial 62 finished with value: 0.5725439089437574 and parameters: {'n_estimators': 968, 'max_depth': 44, 'min_samples_split': 7, 'min_samples_leaf': 4}. Best is trial 13 with value: 1.5676557186019349.\n",
      "[I 2024-04-14 16:58:21,771] Trial 63 finished with value: 1.0184497176364158 and parameters: {'n_estimators': 866, 'max_depth': 22, 'min_samples_split': 5, 'min_samples_leaf': 6}. Best is trial 13 with value: 1.5676557186019349.\n",
      "[I 2024-04-14 16:58:22,720] Trial 64 finished with value: 0.45577538398726813 and parameters: {'n_estimators': 943, 'max_depth': 38, 'min_samples_split': 12, 'min_samples_leaf': 1}. Best is trial 13 with value: 1.5676557186019349.\n",
      "[I 2024-04-14 16:58:23,458] Trial 65 finished with value: 1.0189484759476686 and parameters: {'n_estimators': 654, 'max_depth': 50, 'min_samples_split': 4, 'min_samples_leaf': 6}. Best is trial 13 with value: 1.5676557186019349.\n",
      "[I 2024-04-14 16:58:24,324] Trial 66 finished with value: 1.347091267701222 and parameters: {'n_estimators': 890, 'max_depth': 40, 'min_samples_split': 15, 'min_samples_leaf': 8}. Best is trial 13 with value: 1.5676557186019349.\n",
      "[I 2024-04-14 16:58:24,710] Trial 67 finished with value: 1.4591183772353593 and parameters: {'n_estimators': 423, 'max_depth': 22, 'min_samples_split': 17, 'min_samples_leaf': 9}. Best is trial 13 with value: 1.5676557186019349.\n",
      "[I 2024-04-14 16:58:25,499] Trial 68 finished with value: 1.0180504099631247 and parameters: {'n_estimators': 881, 'max_depth': 47, 'min_samples_split': 11, 'min_samples_leaf': 6}. Best is trial 13 with value: 1.5676557186019349.\n",
      "[I 2024-04-14 16:58:26,604] Trial 69 finished with value: 1.3489166529057919 and parameters: {'n_estimators': 819, 'max_depth': 36, 'min_samples_split': 15, 'min_samples_leaf': 8}. Best is trial 13 with value: 1.5676557186019349.\n",
      "[I 2024-04-14 16:58:27,513] Trial 70 finished with value: 0.3635852351339707 and parameters: {'n_estimators': 901, 'max_depth': 23, 'min_samples_split': 9, 'min_samples_leaf': 1}. Best is trial 13 with value: 1.5676557186019349.\n",
      "[I 2024-04-14 16:58:28,090] Trial 71 finished with value: 1.0173083057642514 and parameters: {'n_estimators': 621, 'max_depth': 11, 'min_samples_split': 10, 'min_samples_leaf': 6}. Best is trial 13 with value: 1.5676557186019349.\n",
      "[I 2024-04-14 16:58:28,471] Trial 72 finished with value: 0.1906282208749301 and parameters: {'n_estimators': 358, 'max_depth': 34, 'min_samples_split': 2, 'min_samples_leaf': 1}. Best is trial 13 with value: 1.5676557186019349.\n",
      "[I 2024-04-14 16:58:29,489] Trial 73 finished with value: 1.018625613071502 and parameters: {'n_estimators': 841, 'max_depth': 24, 'min_samples_split': 4, 'min_samples_leaf': 6}. Best is trial 13 with value: 1.5676557186019349.\n",
      "[I 2024-04-14 16:58:30,441] Trial 74 finished with value: 0.4942936139940599 and parameters: {'n_estimators': 793, 'max_depth': 18, 'min_samples_split': 13, 'min_samples_leaf': 1}. Best is trial 13 with value: 1.5676557186019349.\n",
      "[I 2024-04-14 16:58:30,611] Trial 75 finished with value: 1.1954111463600643 and parameters: {'n_estimators': 146, 'max_depth': 31, 'min_samples_split': 12, 'min_samples_leaf': 7}. Best is trial 13 with value: 1.5676557186019349.\n",
      "[I 2024-04-14 16:58:31,427] Trial 76 finished with value: 0.6191053655769589 and parameters: {'n_estimators': 754, 'max_depth': 50, 'min_samples_split': 11, 'min_samples_leaf': 4}. Best is trial 13 with value: 1.5676557186019349.\n",
      "[I 2024-04-14 16:58:32,358] Trial 77 finished with value: 0.39220087657977204 and parameters: {'n_estimators': 816, 'max_depth': 21, 'min_samples_split': 10, 'min_samples_leaf': 1}. Best is trial 13 with value: 1.5676557186019349.\n",
      "[I 2024-04-14 16:58:32,516] Trial 78 finished with value: 1.2184405624420487 and parameters: {'n_estimators': 122, 'max_depth': 49, 'min_samples_split': 17, 'min_samples_leaf': 7}. Best is trial 13 with value: 1.5676557186019349.\n",
      "[I 2024-04-14 16:58:33,041] Trial 79 finished with value: 0.4009433267840928 and parameters: {'n_estimators': 468, 'max_depth': 17, 'min_samples_split': 4, 'min_samples_leaf': 3}. Best is trial 13 with value: 1.5676557186019349.\n",
      "[I 2024-04-14 16:58:33,716] Trial 80 finished with value: 0.5866890944771426 and parameters: {'n_estimators': 594, 'max_depth': 39, 'min_samples_split': 14, 'min_samples_leaf': 3}. Best is trial 13 with value: 1.5676557186019349.\n",
      "[I 2024-04-14 16:58:34,747] Trial 81 finished with value: 1.2048523619698532 and parameters: {'n_estimators': 960, 'max_depth': 40, 'min_samples_split': 12, 'min_samples_leaf': 7}. Best is trial 13 with value: 1.5676557186019349.\n",
      "[I 2024-04-14 16:58:35,384] Trial 82 finished with value: 1.3472694245431047 and parameters: {'n_estimators': 478, 'max_depth': 20, 'min_samples_split': 8, 'min_samples_leaf': 8}. Best is trial 13 with value: 1.5676557186019349.\n",
      "[I 2024-04-14 16:58:35,535] Trial 83 finished with value: 0.19371175348607586 and parameters: {'n_estimators': 112, 'max_depth': 14, 'min_samples_split': 2, 'min_samples_leaf': 1}. Best is trial 13 with value: 1.5676557186019349.\n",
      "[I 2024-04-14 16:58:36,451] Trial 84 finished with value: 0.422330272959051 and parameters: {'n_estimators': 870, 'max_depth': 38, 'min_samples_split': 11, 'min_samples_leaf': 1}. Best is trial 13 with value: 1.5676557186019349.\n",
      "[I 2024-04-14 16:58:36,982] Trial 85 finished with value: 0.7985361235225208 and parameters: {'n_estimators': 542, 'max_depth': 29, 'min_samples_split': 5, 'min_samples_leaf': 5}. Best is trial 13 with value: 1.5676557186019349.\n",
      "[I 2024-04-14 16:58:37,431] Trial 86 finished with value: 0.5318458925576662 and parameters: {'n_estimators': 459, 'max_depth': 35, 'min_samples_split': 14, 'min_samples_leaf': 1}. Best is trial 13 with value: 1.5676557186019349.\n",
      "[I 2024-04-14 16:58:37,829] Trial 87 finished with value: 1.4576898994770957 and parameters: {'n_estimators': 437, 'max_depth': 35, 'min_samples_split': 11, 'min_samples_leaf': 9}. Best is trial 13 with value: 1.5676557186019349.\n",
      "[I 2024-04-14 16:58:38,669] Trial 88 finished with value: 1.2072932336775606 and parameters: {'n_estimators': 693, 'max_depth': 16, 'min_samples_split': 3, 'min_samples_leaf': 7}. Best is trial 13 with value: 1.5676557186019349.\n",
      "[I 2024-04-14 16:58:38,836] Trial 89 finished with value: 1.0890723328512482 and parameters: {'n_estimators': 123, 'max_depth': 34, 'min_samples_split': 19, 'min_samples_leaf': 6}. Best is trial 13 with value: 1.5676557186019349.\n",
      "[I 2024-04-14 16:58:39,351] Trial 90 finished with value: 1.0199157254776658 and parameters: {'n_estimators': 449, 'max_depth': 36, 'min_samples_split': 10, 'min_samples_leaf': 6}. Best is trial 13 with value: 1.5676557186019349.\n",
      "[I 2024-04-14 16:58:40,341] Trial 91 finished with value: 1.5677917190823236 and parameters: {'n_estimators': 948, 'max_depth': 25, 'min_samples_split': 20, 'min_samples_leaf': 10}. Best is trial 91 with value: 1.5677917190823236.\n",
      "[I 2024-04-14 16:58:40,692] Trial 92 finished with value: 0.2068770966810985 and parameters: {'n_estimators': 276, 'max_depth': 12, 'min_samples_split': 3, 'min_samples_leaf': 1}. Best is trial 91 with value: 1.5677917190823236.\n",
      "[I 2024-04-14 16:58:40,917] Trial 93 finished with value: 0.5671372565714158 and parameters: {'n_estimators': 185, 'max_depth': 38, 'min_samples_split': 3, 'min_samples_leaf': 4}. Best is trial 91 with value: 1.5677917190823236.\n",
      "[I 2024-04-14 16:58:41,795] Trial 94 finished with value: 0.6865154327904054 and parameters: {'n_estimators': 861, 'max_depth': 10, 'min_samples_split': 17, 'min_samples_leaf': 3}. Best is trial 91 with value: 1.5677917190823236.\n",
      "[I 2024-04-14 16:58:42,177] Trial 95 finished with value: 1.4514762350524184 and parameters: {'n_estimators': 206, 'max_depth': 38, 'min_samples_split': 13, 'min_samples_leaf': 9}. Best is trial 91 with value: 1.5677917190823236.\n",
      "[I 2024-04-14 16:58:43,106] Trial 96 finished with value: 0.3405421667579713 and parameters: {'n_estimators': 762, 'max_depth': 42, 'min_samples_split': 7, 'min_samples_leaf': 2}. Best is trial 91 with value: 1.5677917190823236.\n",
      "[I 2024-04-14 16:58:44,050] Trial 97 finished with value: 0.9846618173416866 and parameters: {'n_estimators': 776, 'max_depth': 43, 'min_samples_split': 20, 'min_samples_leaf': 5}. Best is trial 91 with value: 1.5677917190823236.\n",
      "[I 2024-04-14 16:58:44,485] Trial 98 finished with value: 1.5625840172577352 and parameters: {'n_estimators': 435, 'max_depth': 41, 'min_samples_split': 8, 'min_samples_leaf': 10}. Best is trial 91 with value: 1.5677917190823236.\n",
      "[I 2024-04-14 16:58:45,359] Trial 99 finished with value: 1.3481338047314124 and parameters: {'n_estimators': 873, 'max_depth': 27, 'min_samples_split': 16, 'min_samples_leaf': 8}. Best is trial 91 with value: 1.5677917190823236.\n",
      "[I 2024-04-14 16:58:45,568] Trial 100 finished with value: 1.4527113592213214 and parameters: {'n_estimators': 192, 'max_depth': 47, 'min_samples_split': 11, 'min_samples_leaf': 9}. Best is trial 91 with value: 1.5677917190823236.\n",
      "[I 2024-04-14 16:58:45,995] Trial 101 finished with value: 0.3645441141788649 and parameters: {'n_estimators': 388, 'max_depth': 46, 'min_samples_split': 9, 'min_samples_leaf': 1}. Best is trial 91 with value: 1.5677917190823236.\n",
      "[I 2024-04-14 16:58:46,845] Trial 102 finished with value: 1.5674918364794137 and parameters: {'n_estimators': 915, 'max_depth': 13, 'min_samples_split': 8, 'min_samples_leaf': 10}. Best is trial 91 with value: 1.5677917190823236.\n",
      "[I 2024-04-14 16:58:47,721] Trial 103 finished with value: 0.8433619159940559 and parameters: {'n_estimators': 956, 'max_depth': 33, 'min_samples_split': 14, 'min_samples_leaf': 5}. Best is trial 91 with value: 1.5677917190823236.\n",
      "[I 2024-04-14 16:58:48,065] Trial 104 finished with value: 1.3461095568041777 and parameters: {'n_estimators': 364, 'max_depth': 23, 'min_samples_split': 14, 'min_samples_leaf': 8}. Best is trial 91 with value: 1.5677917190823236.\n",
      "[I 2024-04-14 16:58:49,037] Trial 105 finished with value: 0.7977976310203732 and parameters: {'n_estimators': 813, 'max_depth': 42, 'min_samples_split': 3, 'min_samples_leaf': 5}. Best is trial 91 with value: 1.5677917190823236.\n",
      "[I 2024-04-14 16:58:49,273] Trial 106 finished with value: 1.4463500629709127 and parameters: {'n_estimators': 151, 'max_depth': 32, 'min_samples_split': 10, 'min_samples_leaf': 9}. Best is trial 91 with value: 1.5677917190823236.\n",
      "[I 2024-04-14 16:58:50,109] Trial 107 finished with value: 1.349484270853754 and parameters: {'n_estimators': 416, 'max_depth': 14, 'min_samples_split': 4, 'min_samples_leaf': 8}. Best is trial 91 with value: 1.5677917190823236.\n",
      "[I 2024-04-14 16:58:50,701] Trial 108 finished with value: 1.3475468597136167 and parameters: {'n_estimators': 657, 'max_depth': 14, 'min_samples_split': 3, 'min_samples_leaf': 8}. Best is trial 91 with value: 1.5677917190823236.\n",
      "[I 2024-04-14 16:58:50,869] Trial 109 finished with value: 0.5717324479258657 and parameters: {'n_estimators': 165, 'max_depth': 43, 'min_samples_split': 15, 'min_samples_leaf': 1}. Best is trial 91 with value: 1.5677917190823236.\n",
      "[I 2024-04-14 16:58:51,123] Trial 110 finished with value: 0.5814047112942478 and parameters: {'n_estimators': 176, 'max_depth': 50, 'min_samples_split': 9, 'min_samples_leaf': 4}. Best is trial 91 with value: 1.5677917190823236.\n",
      "[I 2024-04-14 16:58:51,967] Trial 111 finished with value: 1.3931459159109998 and parameters: {'n_estimators': 832, 'max_depth': 48, 'min_samples_split': 20, 'min_samples_leaf': 8}. Best is trial 91 with value: 1.5677917190823236.\n",
      "[I 2024-04-14 16:58:52,379] Trial 112 finished with value: 1.0610321467108335 and parameters: {'n_estimators': 439, 'max_depth': 13, 'min_samples_split': 16, 'min_samples_leaf': 6}. Best is trial 91 with value: 1.5677917190823236.\n",
      "[I 2024-04-14 16:58:52,863] Trial 113 finished with value: 0.7986580274393005 and parameters: {'n_estimators': 482, 'max_depth': 47, 'min_samples_split': 4, 'min_samples_leaf': 5}. Best is trial 91 with value: 1.5677917190823236.\n",
      "[I 2024-04-14 16:58:53,003] Trial 114 finished with value: 0.26928549119307826 and parameters: {'n_estimators': 110, 'max_depth': 29, 'min_samples_split': 3, 'min_samples_leaf': 2}. Best is trial 91 with value: 1.5677917190823236.\n",
      "[I 2024-04-14 16:58:53,213] Trial 115 finished with value: 1.0536712918726043 and parameters: {'n_estimators': 205, 'max_depth': 36, 'min_samples_split': 16, 'min_samples_leaf': 6}. Best is trial 91 with value: 1.5677917190823236.\n",
      "[I 2024-04-14 16:58:54,072] Trial 116 finished with value: 1.4588362439991325 and parameters: {'n_estimators': 966, 'max_depth': 25, 'min_samples_split': 7, 'min_samples_leaf': 9}. Best is trial 91 with value: 1.5677917190823236.\n"
     ]
    }
   ],
   "source": [
    "study.optimize(objective, n_trials = 200)"
   ]
  },
  {
   "cell_type": "code",
   "execution_count": null,
   "id": "41c47a33-4a94-491b-9022-82ab9562ab27",
   "metadata": {},
   "outputs": [],
   "source": [
    "study.best_params"
   ]
  },
  {
   "cell_type": "code",
   "execution_count": null,
   "id": "e7b9362f-3eeb-42a6-8088-d5616d9fb219",
   "metadata": {},
   "outputs": [],
   "source": [
    "best_params = study.best_params"
   ]
  },
  {
   "cell_type": "code",
   "execution_count": null,
   "id": "1211d4fd-1d9f-45b4-afe0-8fbdf30efce8",
   "metadata": {},
   "outputs": [],
   "source": [
    "import matplotlib.pyplot as plt"
   ]
  },
  {
   "cell_type": "code",
   "execution_count": null,
   "id": "536bf32d-fb01-46e5-aebe-411fd693527f",
   "metadata": {},
   "outputs": [],
   "source": [
    "optuna.visualization.plot_optimization_history(study)"
   ]
  },
  {
   "cell_type": "code",
   "execution_count": null,
   "id": "7a48ec5b-8309-4389-8444-172380a87b86",
   "metadata": {},
   "outputs": [],
   "source": []
  }
 ],
 "metadata": {
  "kernelspec": {
   "display_name": "Python 3 (ipykernel)",
   "language": "python",
   "name": "python3"
  },
  "language_info": {
   "codemirror_mode": {
    "name": "ipython",
    "version": 3
   },
   "file_extension": ".py",
   "mimetype": "text/x-python",
   "name": "python",
   "nbconvert_exporter": "python",
   "pygments_lexer": "ipython3",
   "version": "3.11.7"
  }
 },
 "nbformat": 4,
 "nbformat_minor": 5
}
